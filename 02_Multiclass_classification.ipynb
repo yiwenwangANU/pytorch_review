{
  "nbformat": 4,
  "nbformat_minor": 0,
  "metadata": {
    "colab": {
      "provenance": [],
      "gpuType": "T4",
      "authorship_tag": "ABX9TyPboRC68V6YJ0pgf9PjvVPA",
      "include_colab_link": true
    },
    "kernelspec": {
      "name": "python3",
      "display_name": "Python 3"
    },
    "language_info": {
      "name": "python"
    },
    "accelerator": "GPU"
  },
  "cells": [
    {
      "cell_type": "markdown",
      "metadata": {
        "id": "view-in-github",
        "colab_type": "text"
      },
      "source": [
        "<a href=\"https://colab.research.google.com/github/yiwenwangANU/pytorch_review/blob/main/02_Multiclass_classification.ipynb\" target=\"_parent\"><img src=\"https://colab.research.google.com/assets/colab-badge.svg\" alt=\"Open In Colab\"/></a>"
      ]
    },
    {
      "cell_type": "markdown",
      "source": [
        "##Data Preparing"
      ],
      "metadata": {
        "id": "1mHYYqRsNPPe"
      }
    },
    {
      "cell_type": "code",
      "source": [
        "import kagglehub\n",
        "# https://www.kaggle.com/datasets/mujtabamatin/air-quality-and-pollution-assessment/\n",
        "# Download latest version\n",
        "path = kagglehub.dataset_download(\"mujtabamatin/air-quality-and-pollution-assessment\")\n",
        "\n",
        "print(\"Path to dataset files:\", path)"
      ],
      "metadata": {
        "colab": {
          "base_uri": "https://localhost:8080/"
        },
        "id": "10Z1V0w8NyRQ",
        "outputId": "22e205cf-cb8c-443e-b9b6-ab4263e8ba1c"
      },
      "execution_count": 1,
      "outputs": [
        {
          "output_type": "stream",
          "name": "stdout",
          "text": [
            "Path to dataset files: /root/.cache/kagglehub/datasets/mujtabamatin/air-quality-and-pollution-assessment/versions/2\n"
          ]
        }
      ]
    },
    {
      "cell_type": "code",
      "source": [
        "import os\n",
        "print(os.listdir(path))"
      ],
      "metadata": {
        "colab": {
          "base_uri": "https://localhost:8080/"
        },
        "id": "W8_GTnZBPOm0",
        "outputId": "25b92fcf-3f36-4678-b42f-9e6670937a80"
      },
      "execution_count": 2,
      "outputs": [
        {
          "output_type": "stream",
          "name": "stdout",
          "text": [
            "['updated_pollution_dataset.csv']\n"
          ]
        }
      ]
    },
    {
      "cell_type": "code",
      "source": [
        "csv_path = os.path.join(path, \"updated_pollution_dataset.csv\")"
      ],
      "metadata": {
        "id": "ansXS-CVPUoH"
      },
      "execution_count": 3,
      "outputs": []
    },
    {
      "cell_type": "code",
      "source": [
        "import pandas as pd\n",
        "# Read file as data frame\n",
        "df = pd.read_csv(csv_path)"
      ],
      "metadata": {
        "id": "1M97tfZcNZuD"
      },
      "execution_count": 4,
      "outputs": []
    },
    {
      "cell_type": "code",
      "source": [
        "# Data visualization\n",
        "df.info()"
      ],
      "metadata": {
        "colab": {
          "base_uri": "https://localhost:8080/"
        },
        "id": "R5a92aJZNf0N",
        "outputId": "b9d6d31e-a298-41c5-976b-4e24ab99f443"
      },
      "execution_count": 5,
      "outputs": [
        {
          "output_type": "stream",
          "name": "stdout",
          "text": [
            "<class 'pandas.core.frame.DataFrame'>\n",
            "RangeIndex: 5000 entries, 0 to 4999\n",
            "Data columns (total 10 columns):\n",
            " #   Column                         Non-Null Count  Dtype  \n",
            "---  ------                         --------------  -----  \n",
            " 0   Temperature                    5000 non-null   float64\n",
            " 1   Humidity                       5000 non-null   float64\n",
            " 2   PM2.5                          5000 non-null   float64\n",
            " 3   PM10                           5000 non-null   float64\n",
            " 4   NO2                            5000 non-null   float64\n",
            " 5   SO2                            5000 non-null   float64\n",
            " 6   CO                             5000 non-null   float64\n",
            " 7   Proximity_to_Industrial_Areas  5000 non-null   float64\n",
            " 8   Population_Density             5000 non-null   int64  \n",
            " 9   Air Quality                    5000 non-null   object \n",
            "dtypes: float64(8), int64(1), object(1)\n",
            "memory usage: 390.8+ KB\n"
          ]
        }
      ]
    },
    {
      "cell_type": "code",
      "source": [
        "df.head(10)"
      ],
      "metadata": {
        "colab": {
          "base_uri": "https://localhost:8080/",
          "height": 363
        },
        "id": "B6B9U-u4PlGr",
        "outputId": "e87c951b-edf1-4433-8b3a-49c555b615a1"
      },
      "execution_count": 6,
      "outputs": [
        {
          "output_type": "execute_result",
          "data": {
            "text/plain": [
              "   Temperature  Humidity  PM2.5  PM10   NO2   SO2    CO  \\\n",
              "0         29.8      59.1    5.2  17.9  18.9   9.2  1.72   \n",
              "1         28.3      75.6    2.3  12.2  30.8   9.7  1.64   \n",
              "2         23.1      74.7   26.7  33.8  24.4  12.6  1.63   \n",
              "3         27.1      39.1    6.1   6.3  13.5   5.3  1.15   \n",
              "4         26.5      70.7    6.9  16.0  21.9   5.6  1.01   \n",
              "5         39.4      96.6   14.6  35.5  42.9  17.9  1.82   \n",
              "6         41.7      82.5    1.7  15.8  31.1  12.7  1.80   \n",
              "7         31.0      59.6    5.0  16.8  24.2  13.6  1.38   \n",
              "8         29.4      93.8   10.3  22.7  45.1  11.8  2.03   \n",
              "9         33.2      80.5   11.1  24.4  32.0  15.3  1.69   \n",
              "\n",
              "   Proximity_to_Industrial_Areas  Population_Density Air Quality  \n",
              "0                            6.3                 319    Moderate  \n",
              "1                            6.0                 611    Moderate  \n",
              "2                            5.2                 619    Moderate  \n",
              "3                           11.1                 551        Good  \n",
              "4                           12.7                 303        Good  \n",
              "5                            3.1                 674   Hazardous  \n",
              "6                            4.6                 735        Poor  \n",
              "7                            6.3                 443    Moderate  \n",
              "8                            5.4                 486        Poor  \n",
              "9                            4.9                 535        Poor  "
            ],
            "text/html": [
              "\n",
              "  <div id=\"df-3eba090c-7363-40f5-afb2-d9a005d5f313\" class=\"colab-df-container\">\n",
              "    <div>\n",
              "<style scoped>\n",
              "    .dataframe tbody tr th:only-of-type {\n",
              "        vertical-align: middle;\n",
              "    }\n",
              "\n",
              "    .dataframe tbody tr th {\n",
              "        vertical-align: top;\n",
              "    }\n",
              "\n",
              "    .dataframe thead th {\n",
              "        text-align: right;\n",
              "    }\n",
              "</style>\n",
              "<table border=\"1\" class=\"dataframe\">\n",
              "  <thead>\n",
              "    <tr style=\"text-align: right;\">\n",
              "      <th></th>\n",
              "      <th>Temperature</th>\n",
              "      <th>Humidity</th>\n",
              "      <th>PM2.5</th>\n",
              "      <th>PM10</th>\n",
              "      <th>NO2</th>\n",
              "      <th>SO2</th>\n",
              "      <th>CO</th>\n",
              "      <th>Proximity_to_Industrial_Areas</th>\n",
              "      <th>Population_Density</th>\n",
              "      <th>Air Quality</th>\n",
              "    </tr>\n",
              "  </thead>\n",
              "  <tbody>\n",
              "    <tr>\n",
              "      <th>0</th>\n",
              "      <td>29.8</td>\n",
              "      <td>59.1</td>\n",
              "      <td>5.2</td>\n",
              "      <td>17.9</td>\n",
              "      <td>18.9</td>\n",
              "      <td>9.2</td>\n",
              "      <td>1.72</td>\n",
              "      <td>6.3</td>\n",
              "      <td>319</td>\n",
              "      <td>Moderate</td>\n",
              "    </tr>\n",
              "    <tr>\n",
              "      <th>1</th>\n",
              "      <td>28.3</td>\n",
              "      <td>75.6</td>\n",
              "      <td>2.3</td>\n",
              "      <td>12.2</td>\n",
              "      <td>30.8</td>\n",
              "      <td>9.7</td>\n",
              "      <td>1.64</td>\n",
              "      <td>6.0</td>\n",
              "      <td>611</td>\n",
              "      <td>Moderate</td>\n",
              "    </tr>\n",
              "    <tr>\n",
              "      <th>2</th>\n",
              "      <td>23.1</td>\n",
              "      <td>74.7</td>\n",
              "      <td>26.7</td>\n",
              "      <td>33.8</td>\n",
              "      <td>24.4</td>\n",
              "      <td>12.6</td>\n",
              "      <td>1.63</td>\n",
              "      <td>5.2</td>\n",
              "      <td>619</td>\n",
              "      <td>Moderate</td>\n",
              "    </tr>\n",
              "    <tr>\n",
              "      <th>3</th>\n",
              "      <td>27.1</td>\n",
              "      <td>39.1</td>\n",
              "      <td>6.1</td>\n",
              "      <td>6.3</td>\n",
              "      <td>13.5</td>\n",
              "      <td>5.3</td>\n",
              "      <td>1.15</td>\n",
              "      <td>11.1</td>\n",
              "      <td>551</td>\n",
              "      <td>Good</td>\n",
              "    </tr>\n",
              "    <tr>\n",
              "      <th>4</th>\n",
              "      <td>26.5</td>\n",
              "      <td>70.7</td>\n",
              "      <td>6.9</td>\n",
              "      <td>16.0</td>\n",
              "      <td>21.9</td>\n",
              "      <td>5.6</td>\n",
              "      <td>1.01</td>\n",
              "      <td>12.7</td>\n",
              "      <td>303</td>\n",
              "      <td>Good</td>\n",
              "    </tr>\n",
              "    <tr>\n",
              "      <th>5</th>\n",
              "      <td>39.4</td>\n",
              "      <td>96.6</td>\n",
              "      <td>14.6</td>\n",
              "      <td>35.5</td>\n",
              "      <td>42.9</td>\n",
              "      <td>17.9</td>\n",
              "      <td>1.82</td>\n",
              "      <td>3.1</td>\n",
              "      <td>674</td>\n",
              "      <td>Hazardous</td>\n",
              "    </tr>\n",
              "    <tr>\n",
              "      <th>6</th>\n",
              "      <td>41.7</td>\n",
              "      <td>82.5</td>\n",
              "      <td>1.7</td>\n",
              "      <td>15.8</td>\n",
              "      <td>31.1</td>\n",
              "      <td>12.7</td>\n",
              "      <td>1.80</td>\n",
              "      <td>4.6</td>\n",
              "      <td>735</td>\n",
              "      <td>Poor</td>\n",
              "    </tr>\n",
              "    <tr>\n",
              "      <th>7</th>\n",
              "      <td>31.0</td>\n",
              "      <td>59.6</td>\n",
              "      <td>5.0</td>\n",
              "      <td>16.8</td>\n",
              "      <td>24.2</td>\n",
              "      <td>13.6</td>\n",
              "      <td>1.38</td>\n",
              "      <td>6.3</td>\n",
              "      <td>443</td>\n",
              "      <td>Moderate</td>\n",
              "    </tr>\n",
              "    <tr>\n",
              "      <th>8</th>\n",
              "      <td>29.4</td>\n",
              "      <td>93.8</td>\n",
              "      <td>10.3</td>\n",
              "      <td>22.7</td>\n",
              "      <td>45.1</td>\n",
              "      <td>11.8</td>\n",
              "      <td>2.03</td>\n",
              "      <td>5.4</td>\n",
              "      <td>486</td>\n",
              "      <td>Poor</td>\n",
              "    </tr>\n",
              "    <tr>\n",
              "      <th>9</th>\n",
              "      <td>33.2</td>\n",
              "      <td>80.5</td>\n",
              "      <td>11.1</td>\n",
              "      <td>24.4</td>\n",
              "      <td>32.0</td>\n",
              "      <td>15.3</td>\n",
              "      <td>1.69</td>\n",
              "      <td>4.9</td>\n",
              "      <td>535</td>\n",
              "      <td>Poor</td>\n",
              "    </tr>\n",
              "  </tbody>\n",
              "</table>\n",
              "</div>\n",
              "    <div class=\"colab-df-buttons\">\n",
              "\n",
              "  <div class=\"colab-df-container\">\n",
              "    <button class=\"colab-df-convert\" onclick=\"convertToInteractive('df-3eba090c-7363-40f5-afb2-d9a005d5f313')\"\n",
              "            title=\"Convert this dataframe to an interactive table.\"\n",
              "            style=\"display:none;\">\n",
              "\n",
              "  <svg xmlns=\"http://www.w3.org/2000/svg\" height=\"24px\" viewBox=\"0 -960 960 960\">\n",
              "    <path d=\"M120-120v-720h720v720H120Zm60-500h600v-160H180v160Zm220 220h160v-160H400v160Zm0 220h160v-160H400v160ZM180-400h160v-160H180v160Zm440 0h160v-160H620v160ZM180-180h160v-160H180v160Zm440 0h160v-160H620v160Z\"/>\n",
              "  </svg>\n",
              "    </button>\n",
              "\n",
              "  <style>\n",
              "    .colab-df-container {\n",
              "      display:flex;\n",
              "      gap: 12px;\n",
              "    }\n",
              "\n",
              "    .colab-df-convert {\n",
              "      background-color: #E8F0FE;\n",
              "      border: none;\n",
              "      border-radius: 50%;\n",
              "      cursor: pointer;\n",
              "      display: none;\n",
              "      fill: #1967D2;\n",
              "      height: 32px;\n",
              "      padding: 0 0 0 0;\n",
              "      width: 32px;\n",
              "    }\n",
              "\n",
              "    .colab-df-convert:hover {\n",
              "      background-color: #E2EBFA;\n",
              "      box-shadow: 0px 1px 2px rgba(60, 64, 67, 0.3), 0px 1px 3px 1px rgba(60, 64, 67, 0.15);\n",
              "      fill: #174EA6;\n",
              "    }\n",
              "\n",
              "    .colab-df-buttons div {\n",
              "      margin-bottom: 4px;\n",
              "    }\n",
              "\n",
              "    [theme=dark] .colab-df-convert {\n",
              "      background-color: #3B4455;\n",
              "      fill: #D2E3FC;\n",
              "    }\n",
              "\n",
              "    [theme=dark] .colab-df-convert:hover {\n",
              "      background-color: #434B5C;\n",
              "      box-shadow: 0px 1px 3px 1px rgba(0, 0, 0, 0.15);\n",
              "      filter: drop-shadow(0px 1px 2px rgba(0, 0, 0, 0.3));\n",
              "      fill: #FFFFFF;\n",
              "    }\n",
              "  </style>\n",
              "\n",
              "    <script>\n",
              "      const buttonEl =\n",
              "        document.querySelector('#df-3eba090c-7363-40f5-afb2-d9a005d5f313 button.colab-df-convert');\n",
              "      buttonEl.style.display =\n",
              "        google.colab.kernel.accessAllowed ? 'block' : 'none';\n",
              "\n",
              "      async function convertToInteractive(key) {\n",
              "        const element = document.querySelector('#df-3eba090c-7363-40f5-afb2-d9a005d5f313');\n",
              "        const dataTable =\n",
              "          await google.colab.kernel.invokeFunction('convertToInteractive',\n",
              "                                                    [key], {});\n",
              "        if (!dataTable) return;\n",
              "\n",
              "        const docLinkHtml = 'Like what you see? Visit the ' +\n",
              "          '<a target=\"_blank\" href=https://colab.research.google.com/notebooks/data_table.ipynb>data table notebook</a>'\n",
              "          + ' to learn more about interactive tables.';\n",
              "        element.innerHTML = '';\n",
              "        dataTable['output_type'] = 'display_data';\n",
              "        await google.colab.output.renderOutput(dataTable, element);\n",
              "        const docLink = document.createElement('div');\n",
              "        docLink.innerHTML = docLinkHtml;\n",
              "        element.appendChild(docLink);\n",
              "      }\n",
              "    </script>\n",
              "  </div>\n",
              "\n",
              "\n",
              "<div id=\"df-5f48166f-e6f2-41b0-8237-c28234725dff\">\n",
              "  <button class=\"colab-df-quickchart\" onclick=\"quickchart('df-5f48166f-e6f2-41b0-8237-c28234725dff')\"\n",
              "            title=\"Suggest charts\"\n",
              "            style=\"display:none;\">\n",
              "\n",
              "<svg xmlns=\"http://www.w3.org/2000/svg\" height=\"24px\"viewBox=\"0 0 24 24\"\n",
              "     width=\"24px\">\n",
              "    <g>\n",
              "        <path d=\"M19 3H5c-1.1 0-2 .9-2 2v14c0 1.1.9 2 2 2h14c1.1 0 2-.9 2-2V5c0-1.1-.9-2-2-2zM9 17H7v-7h2v7zm4 0h-2V7h2v10zm4 0h-2v-4h2v4z\"/>\n",
              "    </g>\n",
              "</svg>\n",
              "  </button>\n",
              "\n",
              "<style>\n",
              "  .colab-df-quickchart {\n",
              "      --bg-color: #E8F0FE;\n",
              "      --fill-color: #1967D2;\n",
              "      --hover-bg-color: #E2EBFA;\n",
              "      --hover-fill-color: #174EA6;\n",
              "      --disabled-fill-color: #AAA;\n",
              "      --disabled-bg-color: #DDD;\n",
              "  }\n",
              "\n",
              "  [theme=dark] .colab-df-quickchart {\n",
              "      --bg-color: #3B4455;\n",
              "      --fill-color: #D2E3FC;\n",
              "      --hover-bg-color: #434B5C;\n",
              "      --hover-fill-color: #FFFFFF;\n",
              "      --disabled-bg-color: #3B4455;\n",
              "      --disabled-fill-color: #666;\n",
              "  }\n",
              "\n",
              "  .colab-df-quickchart {\n",
              "    background-color: var(--bg-color);\n",
              "    border: none;\n",
              "    border-radius: 50%;\n",
              "    cursor: pointer;\n",
              "    display: none;\n",
              "    fill: var(--fill-color);\n",
              "    height: 32px;\n",
              "    padding: 0;\n",
              "    width: 32px;\n",
              "  }\n",
              "\n",
              "  .colab-df-quickchart:hover {\n",
              "    background-color: var(--hover-bg-color);\n",
              "    box-shadow: 0 1px 2px rgba(60, 64, 67, 0.3), 0 1px 3px 1px rgba(60, 64, 67, 0.15);\n",
              "    fill: var(--button-hover-fill-color);\n",
              "  }\n",
              "\n",
              "  .colab-df-quickchart-complete:disabled,\n",
              "  .colab-df-quickchart-complete:disabled:hover {\n",
              "    background-color: var(--disabled-bg-color);\n",
              "    fill: var(--disabled-fill-color);\n",
              "    box-shadow: none;\n",
              "  }\n",
              "\n",
              "  .colab-df-spinner {\n",
              "    border: 2px solid var(--fill-color);\n",
              "    border-color: transparent;\n",
              "    border-bottom-color: var(--fill-color);\n",
              "    animation:\n",
              "      spin 1s steps(1) infinite;\n",
              "  }\n",
              "\n",
              "  @keyframes spin {\n",
              "    0% {\n",
              "      border-color: transparent;\n",
              "      border-bottom-color: var(--fill-color);\n",
              "      border-left-color: var(--fill-color);\n",
              "    }\n",
              "    20% {\n",
              "      border-color: transparent;\n",
              "      border-left-color: var(--fill-color);\n",
              "      border-top-color: var(--fill-color);\n",
              "    }\n",
              "    30% {\n",
              "      border-color: transparent;\n",
              "      border-left-color: var(--fill-color);\n",
              "      border-top-color: var(--fill-color);\n",
              "      border-right-color: var(--fill-color);\n",
              "    }\n",
              "    40% {\n",
              "      border-color: transparent;\n",
              "      border-right-color: var(--fill-color);\n",
              "      border-top-color: var(--fill-color);\n",
              "    }\n",
              "    60% {\n",
              "      border-color: transparent;\n",
              "      border-right-color: var(--fill-color);\n",
              "    }\n",
              "    80% {\n",
              "      border-color: transparent;\n",
              "      border-right-color: var(--fill-color);\n",
              "      border-bottom-color: var(--fill-color);\n",
              "    }\n",
              "    90% {\n",
              "      border-color: transparent;\n",
              "      border-bottom-color: var(--fill-color);\n",
              "    }\n",
              "  }\n",
              "</style>\n",
              "\n",
              "  <script>\n",
              "    async function quickchart(key) {\n",
              "      const quickchartButtonEl =\n",
              "        document.querySelector('#' + key + ' button');\n",
              "      quickchartButtonEl.disabled = true;  // To prevent multiple clicks.\n",
              "      quickchartButtonEl.classList.add('colab-df-spinner');\n",
              "      try {\n",
              "        const charts = await google.colab.kernel.invokeFunction(\n",
              "            'suggestCharts', [key], {});\n",
              "      } catch (error) {\n",
              "        console.error('Error during call to suggestCharts:', error);\n",
              "      }\n",
              "      quickchartButtonEl.classList.remove('colab-df-spinner');\n",
              "      quickchartButtonEl.classList.add('colab-df-quickchart-complete');\n",
              "    }\n",
              "    (() => {\n",
              "      let quickchartButtonEl =\n",
              "        document.querySelector('#df-5f48166f-e6f2-41b0-8237-c28234725dff button');\n",
              "      quickchartButtonEl.style.display =\n",
              "        google.colab.kernel.accessAllowed ? 'block' : 'none';\n",
              "    })();\n",
              "  </script>\n",
              "</div>\n",
              "\n",
              "    </div>\n",
              "  </div>\n"
            ],
            "application/vnd.google.colaboratory.intrinsic+json": {
              "type": "dataframe",
              "variable_name": "df",
              "summary": "{\n  \"name\": \"df\",\n  \"rows\": 5000,\n  \"fields\": [\n    {\n      \"column\": \"Temperature\",\n      \"properties\": {\n        \"dtype\": \"number\",\n        \"std\": 6.72066137351523,\n        \"min\": 13.4,\n        \"max\": 58.6,\n        \"num_unique_values\": 362,\n        \"samples\": [\n          20.3,\n          27.7,\n          32.0\n        ],\n        \"semantic_type\": \"\",\n        \"description\": \"\"\n      }\n    },\n    {\n      \"column\": \"Humidity\",\n      \"properties\": {\n        \"dtype\": \"number\",\n        \"std\": 15.863576682407786,\n        \"min\": 36.0,\n        \"max\": 128.1,\n        \"num_unique_values\": 723,\n        \"samples\": [\n          74.3,\n          58.5,\n          86.2\n        ],\n        \"semantic_type\": \"\",\n        \"description\": \"\"\n      }\n    },\n    {\n      \"column\": \"PM2.5\",\n      \"properties\": {\n        \"dtype\": \"number\",\n        \"std\": 24.554545879838066,\n        \"min\": 0.0,\n        \"max\": 295.0,\n        \"num_unique_values\": 815,\n        \"samples\": [\n          21.7,\n          11.5,\n          52.1\n        ],\n        \"semantic_type\": \"\",\n        \"description\": \"\"\n      }\n    },\n    {\n      \"column\": \"PM10\",\n      \"properties\": {\n        \"dtype\": \"number\",\n        \"std\": 27.349199378624032,\n        \"min\": -0.2,\n        \"max\": 315.8,\n        \"num_unique_values\": 955,\n        \"samples\": [\n          18.4,\n          97.4,\n          83.0\n        ],\n        \"semantic_type\": \"\",\n        \"description\": \"\"\n      }\n    },\n    {\n      \"column\": \"NO2\",\n      \"properties\": {\n        \"dtype\": \"number\",\n        \"std\": 8.895356376391709,\n        \"min\": 7.4,\n        \"max\": 64.9,\n        \"num_unique_values\": 445,\n        \"samples\": [\n          19.9,\n          19.8,\n          33.1\n        ],\n        \"semantic_type\": \"\",\n        \"description\": \"\"\n      }\n    },\n    {\n      \"column\": \"SO2\",\n      \"properties\": {\n        \"dtype\": \"number\",\n        \"std\": 6.750303377385161,\n        \"min\": -6.2,\n        \"max\": 44.9,\n        \"num_unique_values\": 348,\n        \"samples\": [\n          18.7,\n          13.4,\n          35.7\n        ],\n        \"semantic_type\": \"\",\n        \"description\": \"\"\n      }\n    },\n    {\n      \"column\": \"CO\",\n      \"properties\": {\n        \"dtype\": \"number\",\n        \"std\": 0.5460266694116166,\n        \"min\": 0.65,\n        \"max\": 3.72,\n        \"num_unique_values\": 265,\n        \"samples\": [\n          2.27,\n          2.02,\n          2.97\n        ],\n        \"semantic_type\": \"\",\n        \"description\": \"\"\n      }\n    },\n    {\n      \"column\": \"Proximity_to_Industrial_Areas\",\n      \"properties\": {\n        \"dtype\": \"number\",\n        \"std\": 3.610943730235125,\n        \"min\": 2.5,\n        \"max\": 25.8,\n        \"num_unique_values\": 179,\n        \"samples\": [\n          9.0,\n          4.1,\n          8.2\n        ],\n        \"semantic_type\": \"\",\n        \"description\": \"\"\n      }\n    },\n    {\n      \"column\": \"Population_Density\",\n      \"properties\": {\n        \"dtype\": \"number\",\n        \"std\": 152,\n        \"min\": 188,\n        \"max\": 957,\n        \"num_unique_values\": 683,\n        \"samples\": [\n          295,\n          679,\n          492\n        ],\n        \"semantic_type\": \"\",\n        \"description\": \"\"\n      }\n    },\n    {\n      \"column\": \"Air Quality\",\n      \"properties\": {\n        \"dtype\": \"category\",\n        \"num_unique_values\": 4,\n        \"samples\": [\n          \"Good\",\n          \"Poor\",\n          \"Moderate\"\n        ],\n        \"semantic_type\": \"\",\n        \"description\": \"\"\n      }\n    }\n  ]\n}"
            }
          },
          "metadata": {},
          "execution_count": 6
        }
      ]
    },
    {
      "cell_type": "code",
      "source": [
        "# Encode air quality column\n",
        "from sklearn.preprocessing import LabelEncoder\n",
        "\n",
        "encoder = LabelEncoder()\n",
        "df['Air Quality'] = encoder.fit_transform(df['Air Quality'])"
      ],
      "metadata": {
        "id": "linjxLs_RmrH"
      },
      "execution_count": 7,
      "outputs": []
    },
    {
      "cell_type": "code",
      "source": [
        "# Check the data\n",
        "df.head(10)"
      ],
      "metadata": {
        "colab": {
          "base_uri": "https://localhost:8080/",
          "height": 363
        },
        "id": "iLN4VEtuRnRa",
        "outputId": "b1731928-9793-457f-d750-11dd26cf01e1"
      },
      "execution_count": 8,
      "outputs": [
        {
          "output_type": "execute_result",
          "data": {
            "text/plain": [
              "   Temperature  Humidity  PM2.5  PM10   NO2   SO2    CO  \\\n",
              "0         29.8      59.1    5.2  17.9  18.9   9.2  1.72   \n",
              "1         28.3      75.6    2.3  12.2  30.8   9.7  1.64   \n",
              "2         23.1      74.7   26.7  33.8  24.4  12.6  1.63   \n",
              "3         27.1      39.1    6.1   6.3  13.5   5.3  1.15   \n",
              "4         26.5      70.7    6.9  16.0  21.9   5.6  1.01   \n",
              "5         39.4      96.6   14.6  35.5  42.9  17.9  1.82   \n",
              "6         41.7      82.5    1.7  15.8  31.1  12.7  1.80   \n",
              "7         31.0      59.6    5.0  16.8  24.2  13.6  1.38   \n",
              "8         29.4      93.8   10.3  22.7  45.1  11.8  2.03   \n",
              "9         33.2      80.5   11.1  24.4  32.0  15.3  1.69   \n",
              "\n",
              "   Proximity_to_Industrial_Areas  Population_Density  Air Quality  \n",
              "0                            6.3                 319            2  \n",
              "1                            6.0                 611            2  \n",
              "2                            5.2                 619            2  \n",
              "3                           11.1                 551            0  \n",
              "4                           12.7                 303            0  \n",
              "5                            3.1                 674            1  \n",
              "6                            4.6                 735            3  \n",
              "7                            6.3                 443            2  \n",
              "8                            5.4                 486            3  \n",
              "9                            4.9                 535            3  "
            ],
            "text/html": [
              "\n",
              "  <div id=\"df-3c79f6af-92d4-43a4-ae8e-708e765ca06f\" class=\"colab-df-container\">\n",
              "    <div>\n",
              "<style scoped>\n",
              "    .dataframe tbody tr th:only-of-type {\n",
              "        vertical-align: middle;\n",
              "    }\n",
              "\n",
              "    .dataframe tbody tr th {\n",
              "        vertical-align: top;\n",
              "    }\n",
              "\n",
              "    .dataframe thead th {\n",
              "        text-align: right;\n",
              "    }\n",
              "</style>\n",
              "<table border=\"1\" class=\"dataframe\">\n",
              "  <thead>\n",
              "    <tr style=\"text-align: right;\">\n",
              "      <th></th>\n",
              "      <th>Temperature</th>\n",
              "      <th>Humidity</th>\n",
              "      <th>PM2.5</th>\n",
              "      <th>PM10</th>\n",
              "      <th>NO2</th>\n",
              "      <th>SO2</th>\n",
              "      <th>CO</th>\n",
              "      <th>Proximity_to_Industrial_Areas</th>\n",
              "      <th>Population_Density</th>\n",
              "      <th>Air Quality</th>\n",
              "    </tr>\n",
              "  </thead>\n",
              "  <tbody>\n",
              "    <tr>\n",
              "      <th>0</th>\n",
              "      <td>29.8</td>\n",
              "      <td>59.1</td>\n",
              "      <td>5.2</td>\n",
              "      <td>17.9</td>\n",
              "      <td>18.9</td>\n",
              "      <td>9.2</td>\n",
              "      <td>1.72</td>\n",
              "      <td>6.3</td>\n",
              "      <td>319</td>\n",
              "      <td>2</td>\n",
              "    </tr>\n",
              "    <tr>\n",
              "      <th>1</th>\n",
              "      <td>28.3</td>\n",
              "      <td>75.6</td>\n",
              "      <td>2.3</td>\n",
              "      <td>12.2</td>\n",
              "      <td>30.8</td>\n",
              "      <td>9.7</td>\n",
              "      <td>1.64</td>\n",
              "      <td>6.0</td>\n",
              "      <td>611</td>\n",
              "      <td>2</td>\n",
              "    </tr>\n",
              "    <tr>\n",
              "      <th>2</th>\n",
              "      <td>23.1</td>\n",
              "      <td>74.7</td>\n",
              "      <td>26.7</td>\n",
              "      <td>33.8</td>\n",
              "      <td>24.4</td>\n",
              "      <td>12.6</td>\n",
              "      <td>1.63</td>\n",
              "      <td>5.2</td>\n",
              "      <td>619</td>\n",
              "      <td>2</td>\n",
              "    </tr>\n",
              "    <tr>\n",
              "      <th>3</th>\n",
              "      <td>27.1</td>\n",
              "      <td>39.1</td>\n",
              "      <td>6.1</td>\n",
              "      <td>6.3</td>\n",
              "      <td>13.5</td>\n",
              "      <td>5.3</td>\n",
              "      <td>1.15</td>\n",
              "      <td>11.1</td>\n",
              "      <td>551</td>\n",
              "      <td>0</td>\n",
              "    </tr>\n",
              "    <tr>\n",
              "      <th>4</th>\n",
              "      <td>26.5</td>\n",
              "      <td>70.7</td>\n",
              "      <td>6.9</td>\n",
              "      <td>16.0</td>\n",
              "      <td>21.9</td>\n",
              "      <td>5.6</td>\n",
              "      <td>1.01</td>\n",
              "      <td>12.7</td>\n",
              "      <td>303</td>\n",
              "      <td>0</td>\n",
              "    </tr>\n",
              "    <tr>\n",
              "      <th>5</th>\n",
              "      <td>39.4</td>\n",
              "      <td>96.6</td>\n",
              "      <td>14.6</td>\n",
              "      <td>35.5</td>\n",
              "      <td>42.9</td>\n",
              "      <td>17.9</td>\n",
              "      <td>1.82</td>\n",
              "      <td>3.1</td>\n",
              "      <td>674</td>\n",
              "      <td>1</td>\n",
              "    </tr>\n",
              "    <tr>\n",
              "      <th>6</th>\n",
              "      <td>41.7</td>\n",
              "      <td>82.5</td>\n",
              "      <td>1.7</td>\n",
              "      <td>15.8</td>\n",
              "      <td>31.1</td>\n",
              "      <td>12.7</td>\n",
              "      <td>1.80</td>\n",
              "      <td>4.6</td>\n",
              "      <td>735</td>\n",
              "      <td>3</td>\n",
              "    </tr>\n",
              "    <tr>\n",
              "      <th>7</th>\n",
              "      <td>31.0</td>\n",
              "      <td>59.6</td>\n",
              "      <td>5.0</td>\n",
              "      <td>16.8</td>\n",
              "      <td>24.2</td>\n",
              "      <td>13.6</td>\n",
              "      <td>1.38</td>\n",
              "      <td>6.3</td>\n",
              "      <td>443</td>\n",
              "      <td>2</td>\n",
              "    </tr>\n",
              "    <tr>\n",
              "      <th>8</th>\n",
              "      <td>29.4</td>\n",
              "      <td>93.8</td>\n",
              "      <td>10.3</td>\n",
              "      <td>22.7</td>\n",
              "      <td>45.1</td>\n",
              "      <td>11.8</td>\n",
              "      <td>2.03</td>\n",
              "      <td>5.4</td>\n",
              "      <td>486</td>\n",
              "      <td>3</td>\n",
              "    </tr>\n",
              "    <tr>\n",
              "      <th>9</th>\n",
              "      <td>33.2</td>\n",
              "      <td>80.5</td>\n",
              "      <td>11.1</td>\n",
              "      <td>24.4</td>\n",
              "      <td>32.0</td>\n",
              "      <td>15.3</td>\n",
              "      <td>1.69</td>\n",
              "      <td>4.9</td>\n",
              "      <td>535</td>\n",
              "      <td>3</td>\n",
              "    </tr>\n",
              "  </tbody>\n",
              "</table>\n",
              "</div>\n",
              "    <div class=\"colab-df-buttons\">\n",
              "\n",
              "  <div class=\"colab-df-container\">\n",
              "    <button class=\"colab-df-convert\" onclick=\"convertToInteractive('df-3c79f6af-92d4-43a4-ae8e-708e765ca06f')\"\n",
              "            title=\"Convert this dataframe to an interactive table.\"\n",
              "            style=\"display:none;\">\n",
              "\n",
              "  <svg xmlns=\"http://www.w3.org/2000/svg\" height=\"24px\" viewBox=\"0 -960 960 960\">\n",
              "    <path d=\"M120-120v-720h720v720H120Zm60-500h600v-160H180v160Zm220 220h160v-160H400v160Zm0 220h160v-160H400v160ZM180-400h160v-160H180v160Zm440 0h160v-160H620v160ZM180-180h160v-160H180v160Zm440 0h160v-160H620v160Z\"/>\n",
              "  </svg>\n",
              "    </button>\n",
              "\n",
              "  <style>\n",
              "    .colab-df-container {\n",
              "      display:flex;\n",
              "      gap: 12px;\n",
              "    }\n",
              "\n",
              "    .colab-df-convert {\n",
              "      background-color: #E8F0FE;\n",
              "      border: none;\n",
              "      border-radius: 50%;\n",
              "      cursor: pointer;\n",
              "      display: none;\n",
              "      fill: #1967D2;\n",
              "      height: 32px;\n",
              "      padding: 0 0 0 0;\n",
              "      width: 32px;\n",
              "    }\n",
              "\n",
              "    .colab-df-convert:hover {\n",
              "      background-color: #E2EBFA;\n",
              "      box-shadow: 0px 1px 2px rgba(60, 64, 67, 0.3), 0px 1px 3px 1px rgba(60, 64, 67, 0.15);\n",
              "      fill: #174EA6;\n",
              "    }\n",
              "\n",
              "    .colab-df-buttons div {\n",
              "      margin-bottom: 4px;\n",
              "    }\n",
              "\n",
              "    [theme=dark] .colab-df-convert {\n",
              "      background-color: #3B4455;\n",
              "      fill: #D2E3FC;\n",
              "    }\n",
              "\n",
              "    [theme=dark] .colab-df-convert:hover {\n",
              "      background-color: #434B5C;\n",
              "      box-shadow: 0px 1px 3px 1px rgba(0, 0, 0, 0.15);\n",
              "      filter: drop-shadow(0px 1px 2px rgba(0, 0, 0, 0.3));\n",
              "      fill: #FFFFFF;\n",
              "    }\n",
              "  </style>\n",
              "\n",
              "    <script>\n",
              "      const buttonEl =\n",
              "        document.querySelector('#df-3c79f6af-92d4-43a4-ae8e-708e765ca06f button.colab-df-convert');\n",
              "      buttonEl.style.display =\n",
              "        google.colab.kernel.accessAllowed ? 'block' : 'none';\n",
              "\n",
              "      async function convertToInteractive(key) {\n",
              "        const element = document.querySelector('#df-3c79f6af-92d4-43a4-ae8e-708e765ca06f');\n",
              "        const dataTable =\n",
              "          await google.colab.kernel.invokeFunction('convertToInteractive',\n",
              "                                                    [key], {});\n",
              "        if (!dataTable) return;\n",
              "\n",
              "        const docLinkHtml = 'Like what you see? Visit the ' +\n",
              "          '<a target=\"_blank\" href=https://colab.research.google.com/notebooks/data_table.ipynb>data table notebook</a>'\n",
              "          + ' to learn more about interactive tables.';\n",
              "        element.innerHTML = '';\n",
              "        dataTable['output_type'] = 'display_data';\n",
              "        await google.colab.output.renderOutput(dataTable, element);\n",
              "        const docLink = document.createElement('div');\n",
              "        docLink.innerHTML = docLinkHtml;\n",
              "        element.appendChild(docLink);\n",
              "      }\n",
              "    </script>\n",
              "  </div>\n",
              "\n",
              "\n",
              "<div id=\"df-0aa86943-4b92-4422-abe0-4e2124279c8a\">\n",
              "  <button class=\"colab-df-quickchart\" onclick=\"quickchart('df-0aa86943-4b92-4422-abe0-4e2124279c8a')\"\n",
              "            title=\"Suggest charts\"\n",
              "            style=\"display:none;\">\n",
              "\n",
              "<svg xmlns=\"http://www.w3.org/2000/svg\" height=\"24px\"viewBox=\"0 0 24 24\"\n",
              "     width=\"24px\">\n",
              "    <g>\n",
              "        <path d=\"M19 3H5c-1.1 0-2 .9-2 2v14c0 1.1.9 2 2 2h14c1.1 0 2-.9 2-2V5c0-1.1-.9-2-2-2zM9 17H7v-7h2v7zm4 0h-2V7h2v10zm4 0h-2v-4h2v4z\"/>\n",
              "    </g>\n",
              "</svg>\n",
              "  </button>\n",
              "\n",
              "<style>\n",
              "  .colab-df-quickchart {\n",
              "      --bg-color: #E8F0FE;\n",
              "      --fill-color: #1967D2;\n",
              "      --hover-bg-color: #E2EBFA;\n",
              "      --hover-fill-color: #174EA6;\n",
              "      --disabled-fill-color: #AAA;\n",
              "      --disabled-bg-color: #DDD;\n",
              "  }\n",
              "\n",
              "  [theme=dark] .colab-df-quickchart {\n",
              "      --bg-color: #3B4455;\n",
              "      --fill-color: #D2E3FC;\n",
              "      --hover-bg-color: #434B5C;\n",
              "      --hover-fill-color: #FFFFFF;\n",
              "      --disabled-bg-color: #3B4455;\n",
              "      --disabled-fill-color: #666;\n",
              "  }\n",
              "\n",
              "  .colab-df-quickchart {\n",
              "    background-color: var(--bg-color);\n",
              "    border: none;\n",
              "    border-radius: 50%;\n",
              "    cursor: pointer;\n",
              "    display: none;\n",
              "    fill: var(--fill-color);\n",
              "    height: 32px;\n",
              "    padding: 0;\n",
              "    width: 32px;\n",
              "  }\n",
              "\n",
              "  .colab-df-quickchart:hover {\n",
              "    background-color: var(--hover-bg-color);\n",
              "    box-shadow: 0 1px 2px rgba(60, 64, 67, 0.3), 0 1px 3px 1px rgba(60, 64, 67, 0.15);\n",
              "    fill: var(--button-hover-fill-color);\n",
              "  }\n",
              "\n",
              "  .colab-df-quickchart-complete:disabled,\n",
              "  .colab-df-quickchart-complete:disabled:hover {\n",
              "    background-color: var(--disabled-bg-color);\n",
              "    fill: var(--disabled-fill-color);\n",
              "    box-shadow: none;\n",
              "  }\n",
              "\n",
              "  .colab-df-spinner {\n",
              "    border: 2px solid var(--fill-color);\n",
              "    border-color: transparent;\n",
              "    border-bottom-color: var(--fill-color);\n",
              "    animation:\n",
              "      spin 1s steps(1) infinite;\n",
              "  }\n",
              "\n",
              "  @keyframes spin {\n",
              "    0% {\n",
              "      border-color: transparent;\n",
              "      border-bottom-color: var(--fill-color);\n",
              "      border-left-color: var(--fill-color);\n",
              "    }\n",
              "    20% {\n",
              "      border-color: transparent;\n",
              "      border-left-color: var(--fill-color);\n",
              "      border-top-color: var(--fill-color);\n",
              "    }\n",
              "    30% {\n",
              "      border-color: transparent;\n",
              "      border-left-color: var(--fill-color);\n",
              "      border-top-color: var(--fill-color);\n",
              "      border-right-color: var(--fill-color);\n",
              "    }\n",
              "    40% {\n",
              "      border-color: transparent;\n",
              "      border-right-color: var(--fill-color);\n",
              "      border-top-color: var(--fill-color);\n",
              "    }\n",
              "    60% {\n",
              "      border-color: transparent;\n",
              "      border-right-color: var(--fill-color);\n",
              "    }\n",
              "    80% {\n",
              "      border-color: transparent;\n",
              "      border-right-color: var(--fill-color);\n",
              "      border-bottom-color: var(--fill-color);\n",
              "    }\n",
              "    90% {\n",
              "      border-color: transparent;\n",
              "      border-bottom-color: var(--fill-color);\n",
              "    }\n",
              "  }\n",
              "</style>\n",
              "\n",
              "  <script>\n",
              "    async function quickchart(key) {\n",
              "      const quickchartButtonEl =\n",
              "        document.querySelector('#' + key + ' button');\n",
              "      quickchartButtonEl.disabled = true;  // To prevent multiple clicks.\n",
              "      quickchartButtonEl.classList.add('colab-df-spinner');\n",
              "      try {\n",
              "        const charts = await google.colab.kernel.invokeFunction(\n",
              "            'suggestCharts', [key], {});\n",
              "      } catch (error) {\n",
              "        console.error('Error during call to suggestCharts:', error);\n",
              "      }\n",
              "      quickchartButtonEl.classList.remove('colab-df-spinner');\n",
              "      quickchartButtonEl.classList.add('colab-df-quickchart-complete');\n",
              "    }\n",
              "    (() => {\n",
              "      let quickchartButtonEl =\n",
              "        document.querySelector('#df-0aa86943-4b92-4422-abe0-4e2124279c8a button');\n",
              "      quickchartButtonEl.style.display =\n",
              "        google.colab.kernel.accessAllowed ? 'block' : 'none';\n",
              "    })();\n",
              "  </script>\n",
              "</div>\n",
              "\n",
              "    </div>\n",
              "  </div>\n"
            ],
            "application/vnd.google.colaboratory.intrinsic+json": {
              "type": "dataframe",
              "variable_name": "df",
              "summary": "{\n  \"name\": \"df\",\n  \"rows\": 5000,\n  \"fields\": [\n    {\n      \"column\": \"Temperature\",\n      \"properties\": {\n        \"dtype\": \"number\",\n        \"std\": 6.72066137351523,\n        \"min\": 13.4,\n        \"max\": 58.6,\n        \"num_unique_values\": 362,\n        \"samples\": [\n          20.3,\n          27.7,\n          32.0\n        ],\n        \"semantic_type\": \"\",\n        \"description\": \"\"\n      }\n    },\n    {\n      \"column\": \"Humidity\",\n      \"properties\": {\n        \"dtype\": \"number\",\n        \"std\": 15.863576682407786,\n        \"min\": 36.0,\n        \"max\": 128.1,\n        \"num_unique_values\": 723,\n        \"samples\": [\n          74.3,\n          58.5,\n          86.2\n        ],\n        \"semantic_type\": \"\",\n        \"description\": \"\"\n      }\n    },\n    {\n      \"column\": \"PM2.5\",\n      \"properties\": {\n        \"dtype\": \"number\",\n        \"std\": 24.554545879838066,\n        \"min\": 0.0,\n        \"max\": 295.0,\n        \"num_unique_values\": 815,\n        \"samples\": [\n          21.7,\n          11.5,\n          52.1\n        ],\n        \"semantic_type\": \"\",\n        \"description\": \"\"\n      }\n    },\n    {\n      \"column\": \"PM10\",\n      \"properties\": {\n        \"dtype\": \"number\",\n        \"std\": 27.349199378624032,\n        \"min\": -0.2,\n        \"max\": 315.8,\n        \"num_unique_values\": 955,\n        \"samples\": [\n          18.4,\n          97.4,\n          83.0\n        ],\n        \"semantic_type\": \"\",\n        \"description\": \"\"\n      }\n    },\n    {\n      \"column\": \"NO2\",\n      \"properties\": {\n        \"dtype\": \"number\",\n        \"std\": 8.895356376391709,\n        \"min\": 7.4,\n        \"max\": 64.9,\n        \"num_unique_values\": 445,\n        \"samples\": [\n          19.9,\n          19.8,\n          33.1\n        ],\n        \"semantic_type\": \"\",\n        \"description\": \"\"\n      }\n    },\n    {\n      \"column\": \"SO2\",\n      \"properties\": {\n        \"dtype\": \"number\",\n        \"std\": 6.750303377385161,\n        \"min\": -6.2,\n        \"max\": 44.9,\n        \"num_unique_values\": 348,\n        \"samples\": [\n          18.7,\n          13.4,\n          35.7\n        ],\n        \"semantic_type\": \"\",\n        \"description\": \"\"\n      }\n    },\n    {\n      \"column\": \"CO\",\n      \"properties\": {\n        \"dtype\": \"number\",\n        \"std\": 0.5460266694116166,\n        \"min\": 0.65,\n        \"max\": 3.72,\n        \"num_unique_values\": 265,\n        \"samples\": [\n          2.27,\n          2.02,\n          2.97\n        ],\n        \"semantic_type\": \"\",\n        \"description\": \"\"\n      }\n    },\n    {\n      \"column\": \"Proximity_to_Industrial_Areas\",\n      \"properties\": {\n        \"dtype\": \"number\",\n        \"std\": 3.610943730235125,\n        \"min\": 2.5,\n        \"max\": 25.8,\n        \"num_unique_values\": 179,\n        \"samples\": [\n          9.0,\n          4.1,\n          8.2\n        ],\n        \"semantic_type\": \"\",\n        \"description\": \"\"\n      }\n    },\n    {\n      \"column\": \"Population_Density\",\n      \"properties\": {\n        \"dtype\": \"number\",\n        \"std\": 152,\n        \"min\": 188,\n        \"max\": 957,\n        \"num_unique_values\": 683,\n        \"samples\": [\n          295,\n          679,\n          492\n        ],\n        \"semantic_type\": \"\",\n        \"description\": \"\"\n      }\n    },\n    {\n      \"column\": \"Air Quality\",\n      \"properties\": {\n        \"dtype\": \"number\",\n        \"std\": 1,\n        \"min\": 0,\n        \"max\": 3,\n        \"num_unique_values\": 4,\n        \"samples\": [\n          0,\n          3,\n          2\n        ],\n        \"semantic_type\": \"\",\n        \"description\": \"\"\n      }\n    }\n  ]\n}"
            }
          },
          "metadata": {},
          "execution_count": 8
        }
      ]
    },
    {
      "cell_type": "code",
      "source": [
        "# Create X and y from data frame\n",
        "# Using 'Air Quality' as target value and all others as the features\n",
        "X = df.drop('Air Quality', axis=1).values\n",
        "y = df['Air Quality'].values"
      ],
      "metadata": {
        "id": "nnUxHsL3Rqyc"
      },
      "execution_count": 9,
      "outputs": []
    },
    {
      "cell_type": "code",
      "source": [
        "# Check the data\n",
        "X[:5]"
      ],
      "metadata": {
        "colab": {
          "base_uri": "https://localhost:8080/"
        },
        "id": "PdI80ZtHSY3z",
        "outputId": "6fdf48fd-d4be-4f2f-8ac7-6db7ef39464e"
      },
      "execution_count": 10,
      "outputs": [
        {
          "output_type": "execute_result",
          "data": {
            "text/plain": [
              "array([[ 29.8 ,  59.1 ,   5.2 ,  17.9 ,  18.9 ,   9.2 ,   1.72,   6.3 ,\n",
              "        319.  ],\n",
              "       [ 28.3 ,  75.6 ,   2.3 ,  12.2 ,  30.8 ,   9.7 ,   1.64,   6.  ,\n",
              "        611.  ],\n",
              "       [ 23.1 ,  74.7 ,  26.7 ,  33.8 ,  24.4 ,  12.6 ,   1.63,   5.2 ,\n",
              "        619.  ],\n",
              "       [ 27.1 ,  39.1 ,   6.1 ,   6.3 ,  13.5 ,   5.3 ,   1.15,  11.1 ,\n",
              "        551.  ],\n",
              "       [ 26.5 ,  70.7 ,   6.9 ,  16.  ,  21.9 ,   5.6 ,   1.01,  12.7 ,\n",
              "        303.  ]])"
            ]
          },
          "metadata": {},
          "execution_count": 10
        }
      ]
    },
    {
      "cell_type": "code",
      "source": [
        "from sklearn.preprocessing import StandardScaler\n",
        "# Standardization\n",
        "scaler = StandardScaler()\n",
        "X = scaler.fit_transform(X)\n",
        "X[:5]"
      ],
      "metadata": {
        "colab": {
          "base_uri": "https://localhost:8080/"
        },
        "id": "1T9swtBIc7pc",
        "outputId": "dc4fff27-8736-46dd-d041-06dbaa791b16"
      },
      "execution_count": 11,
      "outputs": [
        {
          "output_type": "execute_result",
          "data": {
            "text/plain": [
              "array([[-0.03408041, -0.69071534, -0.60858932, -0.45045531, -0.84458126,\n",
              "        -0.12072072,  0.40230264, -0.58865846, -1.16816284],\n",
              "       [-0.25729505,  0.34950721, -0.72670554, -0.65889176,  0.49332918,\n",
              "        -0.04664257,  0.25577499, -0.67174754,  0.74359753],\n",
              "       [-1.03110581,  0.2927678 ,  0.26709986,  0.13097269, -0.22621929,\n",
              "         0.38301072,  0.23745904, -0.89331843,  0.79597453],\n",
              "       [-0.43586677, -1.95159116, -0.57193257, -0.87464177, -1.45170029,\n",
              "        -0.69853032, -0.64170683,  0.74076687,  0.35077006],\n",
              "       [-0.52515262,  0.04059264, -0.53934878, -0.51993413, -0.50729292,\n",
              "        -0.65408342, -0.8981302 ,  1.18390865, -1.27291684]])"
            ]
          },
          "metadata": {},
          "execution_count": 11
        }
      ]
    },
    {
      "cell_type": "code",
      "source": [
        "# Check Data Imbalance\n",
        "import torch\n",
        "class_counts = df['Air Quality'].value_counts().sort_index()\n",
        "class_weights = 1.0 / torch.tensor(class_counts, dtype=torch.float)\n",
        "class_counts"
      ],
      "metadata": {
        "colab": {
          "base_uri": "https://localhost:8080/",
          "height": 241
        },
        "id": "Y187tV_yeWP2",
        "outputId": "885bd40f-49cd-4f2f-99a9-ee2dd26df0a1"
      },
      "execution_count": 12,
      "outputs": [
        {
          "output_type": "execute_result",
          "data": {
            "text/plain": [
              "Air Quality\n",
              "0    2000\n",
              "1     500\n",
              "2    1500\n",
              "3    1000\n",
              "Name: count, dtype: int64"
            ],
            "text/html": [
              "<div>\n",
              "<style scoped>\n",
              "    .dataframe tbody tr th:only-of-type {\n",
              "        vertical-align: middle;\n",
              "    }\n",
              "\n",
              "    .dataframe tbody tr th {\n",
              "        vertical-align: top;\n",
              "    }\n",
              "\n",
              "    .dataframe thead th {\n",
              "        text-align: right;\n",
              "    }\n",
              "</style>\n",
              "<table border=\"1\" class=\"dataframe\">\n",
              "  <thead>\n",
              "    <tr style=\"text-align: right;\">\n",
              "      <th></th>\n",
              "      <th>count</th>\n",
              "    </tr>\n",
              "    <tr>\n",
              "      <th>Air Quality</th>\n",
              "      <th></th>\n",
              "    </tr>\n",
              "  </thead>\n",
              "  <tbody>\n",
              "    <tr>\n",
              "      <th>0</th>\n",
              "      <td>2000</td>\n",
              "    </tr>\n",
              "    <tr>\n",
              "      <th>1</th>\n",
              "      <td>500</td>\n",
              "    </tr>\n",
              "    <tr>\n",
              "      <th>2</th>\n",
              "      <td>1500</td>\n",
              "    </tr>\n",
              "    <tr>\n",
              "      <th>3</th>\n",
              "      <td>1000</td>\n",
              "    </tr>\n",
              "  </tbody>\n",
              "</table>\n",
              "</div><br><label><b>dtype:</b> int64</label>"
            ]
          },
          "metadata": {},
          "execution_count": 12
        }
      ]
    },
    {
      "cell_type": "code",
      "source": [
        "# Turn numpy data into tensors\n",
        "\n",
        "X, y = torch.from_numpy(X).type(torch.float), torch.from_numpy(y).type(torch.LongTensor)"
      ],
      "metadata": {
        "id": "-5KMXHZmSbJd"
      },
      "execution_count": 13,
      "outputs": []
    },
    {
      "cell_type": "code",
      "source": [
        "# Train test split\n",
        "from sklearn.model_selection import train_test_split\n",
        "X_train, X_test, y_train, y_test = train_test_split(\n",
        "    X, y, test_size=0.2, random_state=42)"
      ],
      "metadata": {
        "id": "rQJuj0WHTS6W"
      },
      "execution_count": 14,
      "outputs": []
    },
    {
      "cell_type": "code",
      "source": [
        "# Check the data\n",
        "X_train[:5], X_train.dtype, len(X_train)"
      ],
      "metadata": {
        "colab": {
          "base_uri": "https://localhost:8080/"
        },
        "id": "INLfI3fTTXgB",
        "outputId": "35d7d172-4961-42ca-87a0-e00909c6c3b0"
      },
      "execution_count": 15,
      "outputs": [
        {
          "output_type": "execute_result",
          "data": {
            "text/plain": [
              "(tensor([[ 1.3052,  1.4149, -0.4823, -0.0446,  0.7182, -0.2541,  1.2632, -1.2534,\n",
              "           1.3132],\n",
              "         [-0.5549, -1.0059, -0.7837, -0.7284, -0.1475, -0.8171, -1.0080,  0.4638,\n",
              "          -1.1878],\n",
              "         [ 1.0671,  2.6002, -0.8122, -0.7832,  0.6170,  1.2571,  1.1349, -0.2009,\n",
              "           1.6733],\n",
              "         [-1.8644, -0.8105, -0.4660, -0.6077, -0.0913, -1.0245, -0.8615,  0.8792,\n",
              "           0.0496],\n",
              "         [-0.4954, -0.9618, -0.5842, -0.6918, -1.1931, -0.8171, -0.4585,  0.9346,\n",
              "           0.4424]]),\n",
              " torch.float32,\n",
              " 4000)"
            ]
          },
          "metadata": {},
          "execution_count": 15
        }
      ]
    },
    {
      "cell_type": "code",
      "source": [
        "y_train[:5], y_train.dtype, len(y_train)"
      ],
      "metadata": {
        "colab": {
          "base_uri": "https://localhost:8080/"
        },
        "id": "4so6Fz4YTayD",
        "outputId": "9588b588-285f-47ef-cda1-a6bddf008d55"
      },
      "execution_count": 16,
      "outputs": [
        {
          "output_type": "execute_result",
          "data": {
            "text/plain": [
              "(tensor([1, 0, 3, 0, 0]), torch.int64, 4000)"
            ]
          },
          "metadata": {},
          "execution_count": 16
        }
      ]
    },
    {
      "cell_type": "markdown",
      "source": [
        "##Set up GPU"
      ],
      "metadata": {
        "id": "1wiTbinQUJTq"
      }
    },
    {
      "cell_type": "code",
      "source": [
        "# need to switch to GPU in colab first if wants GPU\n",
        "device = 'cuda' if torch.cuda.is_available() else 'cpu'\n",
        "device"
      ],
      "metadata": {
        "colab": {
          "base_uri": "https://localhost:8080/",
          "height": 35
        },
        "id": "aTlpKUm5UNmN",
        "outputId": "f4d0d5cd-5ff1-4880-b9cc-575a639793c4"
      },
      "execution_count": 17,
      "outputs": [
        {
          "output_type": "execute_result",
          "data": {
            "text/plain": [
              "'cuda'"
            ],
            "application/vnd.google.colaboratory.intrinsic+json": {
              "type": "string"
            }
          },
          "metadata": {},
          "execution_count": 17
        }
      ]
    },
    {
      "cell_type": "code",
      "source": [
        "# put data set onto device\n",
        "X_train, y_train = X_train.to(device), y_train.to(device)\n",
        "X_test, y_test = X_test.to(device), y_test.to(device)"
      ],
      "metadata": {
        "id": "_iGlICcnUQPu"
      },
      "execution_count": 18,
      "outputs": []
    },
    {
      "cell_type": "markdown",
      "source": [
        "##Build the model"
      ],
      "metadata": {
        "id": "Mo3izWGuUVHf"
      }
    },
    {
      "cell_type": "code",
      "source": [
        "from torch import nn\n",
        "class AirPollutionModel(nn.Module):\n",
        "  def __init__(self, in_features, out_features, hidden_units=64):\n",
        "    super().__init__()\n",
        "    self.layer_stack = nn.Sequential(\n",
        "        nn.Linear(in_features=in_features, out_features=hidden_units),\n",
        "        nn.ReLU(),\n",
        "        nn.Dropout(0.3), # add drop out layer to avoid overfitting\n",
        "        nn.Linear(in_features=hidden_units, out_features=hidden_units),\n",
        "        nn.ReLU(),\n",
        "        nn.Dropout(0.3),\n",
        "        nn.Linear(in_features=hidden_units, out_features=out_features)\n",
        "    )\n",
        "\n",
        "  def forward(self, x):\n",
        "    return self.layer_stack(x)\n",
        "\n",
        "model = AirPollutionModel(in_features=X_train.shape[1], out_features=len(y_train.unique())).to(device)"
      ],
      "metadata": {
        "id": "7epIY4enUW0l"
      },
      "execution_count": 19,
      "outputs": []
    },
    {
      "cell_type": "code",
      "source": [
        "loss_fn = nn.CrossEntropyLoss(weight=class_weights.to(device))\n",
        "optimizer = torch.optim.Adam(params=model.parameters(), lr=.01)"
      ],
      "metadata": {
        "id": "V3HWiaUmWVRI"
      },
      "execution_count": 20,
      "outputs": []
    },
    {
      "cell_type": "markdown",
      "source": [
        "##Train the model"
      ],
      "metadata": {
        "id": "ms7MyIo3gLqy"
      }
    },
    {
      "cell_type": "code",
      "source": [
        "epoches = 3000\n",
        "for epoch in range(epoches):\n",
        "  model.train()\n",
        "  y_logits = model(X_train)\n",
        "  loss = loss_fn(y_logits, y_train)\n",
        "  y_pred = torch.softmax(y_logits, dim=1).argmax(dim=1)\n",
        "  acc = (y_pred == y_train).sum().item() / len(y_train)\n",
        "  optimizer.zero_grad()\n",
        "  loss.backward()\n",
        "  optimizer.step()\n",
        "\n",
        "  model.eval()\n",
        "  with torch.inference_mode():\n",
        "    if(epoch % 300 == 0):\n",
        "      test_logits = model(X_test)\n",
        "      test_loss = loss_fn(test_logits, y_test)\n",
        "      test_pred = torch.softmax(test_logits, dim=1).argmax(dim=1)\n",
        "      test_acc = (test_pred == y_test).sum().item() / len(y_test)\n",
        "      print(f\"Epoch: {epoch} | Train Loss: {loss} | Test Loss: {test_loss} | Train Accuracy: {acc} | Test Accuracy: {test_acc}\")\n",
        ""
      ],
      "metadata": {
        "colab": {
          "base_uri": "https://localhost:8080/"
        },
        "id": "5yOgH5q5XOK-",
        "outputId": "db6c2fef-c069-4147-cca1-6f38a26aa79b"
      },
      "execution_count": 21,
      "outputs": [
        {
          "output_type": "stream",
          "name": "stdout",
          "text": [
            "Epoch: 0 | Train Loss: 1.3770256042480469 | Test Loss: 1.2261015176773071 | Train Accuracy: 0.35325 | Test Accuracy: 0.596\n",
            "Epoch: 300 | Train Loss: 0.13670845329761505 | Test Loss: 0.15634940564632416 | Train Accuracy: 0.95925 | Test Accuracy: 0.953\n",
            "Epoch: 600 | Train Loss: 0.11388349533081055 | Test Loss: 0.20099012553691864 | Train Accuracy: 0.966 | Test Accuracy: 0.944\n",
            "Epoch: 900 | Train Loss: 0.10180647671222687 | Test Loss: 0.22222010791301727 | Train Accuracy: 0.97075 | Test Accuracy: 0.95\n",
            "Epoch: 1200 | Train Loss: 0.0906560868024826 | Test Loss: 0.2149810492992401 | Train Accuracy: 0.972 | Test Accuracy: 0.948\n",
            "Epoch: 1500 | Train Loss: 0.09736648947000504 | Test Loss: 0.26753464341163635 | Train Accuracy: 0.971 | Test Accuracy: 0.951\n",
            "Epoch: 1800 | Train Loss: 0.08733829855918884 | Test Loss: 0.30324503779411316 | Train Accuracy: 0.9735 | Test Accuracy: 0.952\n",
            "Epoch: 2100 | Train Loss: 0.08254072070121765 | Test Loss: 0.30916526913642883 | Train Accuracy: 0.976 | Test Accuracy: 0.947\n",
            "Epoch: 2400 | Train Loss: 0.08473627269268036 | Test Loss: 0.31483593583106995 | Train Accuracy: 0.978 | Test Accuracy: 0.948\n",
            "Epoch: 2700 | Train Loss: 0.08609980344772339 | Test Loss: 0.3505796194076538 | Train Accuracy: 0.97725 | Test Accuracy: 0.946\n"
          ]
        }
      ]
    }
  ]
}